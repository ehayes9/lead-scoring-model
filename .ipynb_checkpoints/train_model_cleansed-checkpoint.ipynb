{
 "cells": [
  {
   "cell_type": "markdown",
   "metadata": {},
   "source": [
    "## Problem Statement:\n",
    "\n",
    "For a B2B SaaS organization, demand generation can result in hundreds of new leads every day. Understanding the quality of which leads are likely to convert to Based on demographic and behavioural information for each lead, predict whether the lead will become a sales accepted opportunity (SAO) to determine whether the BDR team should work the lead. \n",
    "\n",
    "The end result of this notebook is a Random Forest Classifier model that predicts wheter a lead will become an SAO with over 99% accuracy and 81.5% precision."
   ]
  },
  {
   "cell_type": "markdown",
   "metadata": {},
   "source": [
    "## Import Packages & Dataset"
   ]
  },
  {
   "cell_type": "code",
   "execution_count": 215,
   "metadata": {},
   "outputs": [],
   "source": [
    "import pandas as pd\n",
    "import numpy as np\n",
    "import sklearn\n",
    "\n",
    "from sklearn.tree import DecisionTreeClassifier\n",
    "from sklearn.ensemble import RandomForestClassifier\n",
    "from sklearn.linear_model import LogisticRegression\n",
    "from sklearn.metrics import accuracy_score, precision_score, recall_score, fbeta_score, make_scorer\n",
    "from sklearn.preprocessing import MinMaxScaler, StandardScaler, LabelEncoder, OneHotEncoder\n",
    "from sklearn.impute import SimpleImputer\n",
    "from sklearn.model_selection import train_test_split, GridSearchCV\n",
    "\n",
    "import matplotlib.pyplot as plt\n",
    "import seaborn as sns\n",
    "\n",
    "%matplotlib inline"
   ]
  },
  {
   "cell_type": "markdown",
   "metadata": {},
   "source": [
    "### Dataset:\n",
    "\n",
    "I wrote a query to combine data from the following sources, and then exported the data as a csv:\n",
    "\n",
    "1. in-app behavioural data, \n",
    "2. segment event data,\n",
    "3. third party enrichment data for demographic information at the company level\n",
    "4. CRM leads data\n",
    "\n",
    "Data sources 1-3 were joined to the CRM leads data, so we have one record per lead. \n",
    "\n",
    "Note: The dataset did not contain any PII, and internal and test leads were excluded from the dataset"
   ]
  },
  {
   "cell_type": "code",
   "execution_count": 216,
   "metadata": {},
   "outputs": [
    {
     "data": {
      "text/html": [
       "<div>\n",
       "<style scoped>\n",
       "    .dataframe tbody tr th:only-of-type {\n",
       "        vertical-align: middle;\n",
       "    }\n",
       "\n",
       "    .dataframe tbody tr th {\n",
       "        vertical-align: top;\n",
       "    }\n",
       "\n",
       "    .dataframe thead th {\n",
       "        text-align: right;\n",
       "    }\n",
       "</style>\n",
       "<table border=\"1\" class=\"dataframe\">\n",
       "  <thead>\n",
       "    <tr style=\"text-align: right;\">\n",
       "      <th></th>\n",
       "      <th>is_sao</th>\n",
       "      <th>demographic_1</th>\n",
       "      <th>demographic_2</th>\n",
       "      <th>demographic_3</th>\n",
       "      <th>demographic_4</th>\n",
       "      <th>demographic_5</th>\n",
       "      <th>demographic_6</th>\n",
       "      <th>behavioural_1</th>\n",
       "      <th>behavioural_2</th>\n",
       "      <th>behavioural_3</th>\n",
       "      <th>...</th>\n",
       "      <th>behavioural_8</th>\n",
       "      <th>behavioural_9</th>\n",
       "      <th>behavioural_10</th>\n",
       "      <th>behavioural_11</th>\n",
       "      <th>behavioural_12</th>\n",
       "      <th>behavioural_13</th>\n",
       "      <th>behavioural_14</th>\n",
       "      <th>behavioural_15</th>\n",
       "      <th>behavioural_16</th>\n",
       "      <th>behavioural_17</th>\n",
       "    </tr>\n",
       "  </thead>\n",
       "  <tbody>\n",
       "    <tr>\n",
       "      <th>0</th>\n",
       "      <td>0</td>\n",
       "      <td>NaN</td>\n",
       "      <td>Education Services</td>\n",
       "      <td>Diversified Consumer Services</td>\n",
       "      <td>Education</td>\n",
       "      <td>Consumer Discretionary</td>\n",
       "      <td>1390.0</td>\n",
       "      <td>0</td>\n",
       "      <td>1</td>\n",
       "      <td>0</td>\n",
       "      <td>...</td>\n",
       "      <td>1.0</td>\n",
       "      <td>0.0</td>\n",
       "      <td>0.0</td>\n",
       "      <td>0.0</td>\n",
       "      <td>0.0</td>\n",
       "      <td>0.0</td>\n",
       "      <td>NaN</td>\n",
       "      <td>NaN</td>\n",
       "      <td>NaN</td>\n",
       "      <td>NaN</td>\n",
       "    </tr>\n",
       "    <tr>\n",
       "      <th>1</th>\n",
       "      <td>0</td>\n",
       "      <td>NaN</td>\n",
       "      <td>Hotels, Restaurants &amp; Leisure</td>\n",
       "      <td>Consumer Services</td>\n",
       "      <td>Hotels, Restaurants &amp; Leisure</td>\n",
       "      <td>Consumer Discretionary</td>\n",
       "      <td>30.0</td>\n",
       "      <td>0</td>\n",
       "      <td>1</td>\n",
       "      <td>0</td>\n",
       "      <td>...</td>\n",
       "      <td>1.0</td>\n",
       "      <td>0.0</td>\n",
       "      <td>0.0</td>\n",
       "      <td>0.0</td>\n",
       "      <td>0.0</td>\n",
       "      <td>0.0</td>\n",
       "      <td>NaN</td>\n",
       "      <td>NaN</td>\n",
       "      <td>NaN</td>\n",
       "      <td>NaN</td>\n",
       "    </tr>\n",
       "    <tr>\n",
       "      <th>2</th>\n",
       "      <td>0</td>\n",
       "      <td>NaN</td>\n",
       "      <td>Media</td>\n",
       "      <td>Media</td>\n",
       "      <td>Advertising</td>\n",
       "      <td>Consumer Discretionary</td>\n",
       "      <td>5570.0</td>\n",
       "      <td>0</td>\n",
       "      <td>1</td>\n",
       "      <td>0</td>\n",
       "      <td>...</td>\n",
       "      <td>1.0</td>\n",
       "      <td>0.0</td>\n",
       "      <td>0.0</td>\n",
       "      <td>0.0</td>\n",
       "      <td>0.0</td>\n",
       "      <td>0.0</td>\n",
       "      <td>NaN</td>\n",
       "      <td>NaN</td>\n",
       "      <td>NaN</td>\n",
       "      <td>NaN</td>\n",
       "    </tr>\n",
       "    <tr>\n",
       "      <th>3</th>\n",
       "      <td>0</td>\n",
       "      <td>NaN</td>\n",
       "      <td>Health Care Providers &amp; Services</td>\n",
       "      <td>Health Care Equipment &amp; Services</td>\n",
       "      <td>Health &amp; Wellness</td>\n",
       "      <td>Health Care</td>\n",
       "      <td>240.0</td>\n",
       "      <td>0</td>\n",
       "      <td>1</td>\n",
       "      <td>0</td>\n",
       "      <td>...</td>\n",
       "      <td>1.0</td>\n",
       "      <td>0.0</td>\n",
       "      <td>0.0</td>\n",
       "      <td>0.0</td>\n",
       "      <td>0.0</td>\n",
       "      <td>0.0</td>\n",
       "      <td>NaN</td>\n",
       "      <td>NaN</td>\n",
       "      <td>NaN</td>\n",
       "      <td>NaN</td>\n",
       "    </tr>\n",
       "    <tr>\n",
       "      <th>4</th>\n",
       "      <td>0</td>\n",
       "      <td>NaN</td>\n",
       "      <td>NaN</td>\n",
       "      <td>NaN</td>\n",
       "      <td>NaN</td>\n",
       "      <td>NaN</td>\n",
       "      <td>NaN</td>\n",
       "      <td>0</td>\n",
       "      <td>0</td>\n",
       "      <td>0</td>\n",
       "      <td>...</td>\n",
       "      <td>1.0</td>\n",
       "      <td>0.0</td>\n",
       "      <td>0.0</td>\n",
       "      <td>0.0</td>\n",
       "      <td>0.0</td>\n",
       "      <td>0.0</td>\n",
       "      <td>NaN</td>\n",
       "      <td>NaN</td>\n",
       "      <td>NaN</td>\n",
       "      <td>NaN</td>\n",
       "    </tr>\n",
       "  </tbody>\n",
       "</table>\n",
       "<p>5 rows × 24 columns</p>\n",
       "</div>"
      ],
      "text/plain": [
       "   is_sao demographic_1                     demographic_2  \\\n",
       "0       0           NaN                Education Services   \n",
       "1       0           NaN     Hotels, Restaurants & Leisure   \n",
       "2       0           NaN                             Media   \n",
       "3       0           NaN  Health Care Providers & Services   \n",
       "4       0           NaN                               NaN   \n",
       "\n",
       "                      demographic_3                  demographic_4  \\\n",
       "0     Diversified Consumer Services                      Education   \n",
       "1                 Consumer Services  Hotels, Restaurants & Leisure   \n",
       "2                             Media                    Advertising   \n",
       "3  Health Care Equipment & Services              Health & Wellness   \n",
       "4                               NaN                            NaN   \n",
       "\n",
       "            demographic_5  demographic_6  behavioural_1  behavioural_2  \\\n",
       "0  Consumer Discretionary         1390.0              0              1   \n",
       "1  Consumer Discretionary           30.0              0              1   \n",
       "2  Consumer Discretionary         5570.0              0              1   \n",
       "3             Health Care          240.0              0              1   \n",
       "4                     NaN            NaN              0              0   \n",
       "\n",
       "   behavioural_3  ...  behavioural_8  behavioural_9  behavioural_10  \\\n",
       "0              0  ...            1.0            0.0             0.0   \n",
       "1              0  ...            1.0            0.0             0.0   \n",
       "2              0  ...            1.0            0.0             0.0   \n",
       "3              0  ...            1.0            0.0             0.0   \n",
       "4              0  ...            1.0            0.0             0.0   \n",
       "\n",
       "   behavioural_11  behavioural_12  behavioural_13  behavioural_14  \\\n",
       "0             0.0             0.0             0.0             NaN   \n",
       "1             0.0             0.0             0.0             NaN   \n",
       "2             0.0             0.0             0.0             NaN   \n",
       "3             0.0             0.0             0.0             NaN   \n",
       "4             0.0             0.0             0.0             NaN   \n",
       "\n",
       "   behavioural_15  behavioural_16  behavioural_17  \n",
       "0             NaN             NaN             NaN  \n",
       "1             NaN             NaN             NaN  \n",
       "2             NaN             NaN             NaN  \n",
       "3             NaN             NaN             NaN  \n",
       "4             NaN             NaN             NaN  \n",
       "\n",
       "[5 rows x 24 columns]"
      ]
     },
     "execution_count": 216,
     "metadata": {},
     "output_type": "execute_result"
    }
   ],
   "source": [
    "#import data\n",
    "\n",
    "df = pd.read_csv('data/leads_data_clean.csv')\n",
    "\n",
    "#convert columns names to lowercase\n",
    "df.columns = map(str.lower, df.columns)\n",
    "df.head()"
   ]
  },
  {
   "cell_type": "markdown",
   "metadata": {},
   "source": [
    "## Explore features & dataset"
   ]
  },
  {
   "cell_type": "markdown",
   "metadata": {},
   "source": [
    "### Dataset description:\n",
    "\n",
    "- is_sao is the target variable\n",
    "- demographic features contain third party enrichment data related to the company each lead is associated with\n",
    "- remainining features are behavioural, in the form of a count of the number of times the action was performed by the lead\n"
   ]
  },
  {
   "cell_type": "code",
   "execution_count": 217,
   "metadata": {},
   "outputs": [
    {
     "data": {
      "text/plain": [
       "(131108, 24)"
      ]
     },
     "execution_count": 217,
     "metadata": {},
     "output_type": "execute_result"
    }
   ],
   "source": [
    "#can see dataset contains 27 different features\n",
    "df.shape"
   ]
  },
  {
   "cell_type": "code",
   "execution_count": 218,
   "metadata": {},
   "outputs": [
    {
     "data": {
      "text/html": [
       "<div>\n",
       "<style scoped>\n",
       "    .dataframe tbody tr th:only-of-type {\n",
       "        vertical-align: middle;\n",
       "    }\n",
       "\n",
       "    .dataframe tbody tr th {\n",
       "        vertical-align: top;\n",
       "    }\n",
       "\n",
       "    .dataframe thead th {\n",
       "        text-align: right;\n",
       "    }\n",
       "</style>\n",
       "<table border=\"1\" class=\"dataframe\">\n",
       "  <thead>\n",
       "    <tr style=\"text-align: right;\">\n",
       "      <th></th>\n",
       "      <th>is_sao</th>\n",
       "      <th>demographic_6</th>\n",
       "      <th>behavioural_1</th>\n",
       "      <th>behavioural_2</th>\n",
       "      <th>behavioural_3</th>\n",
       "      <th>behavioural_4</th>\n",
       "      <th>behavioural_5</th>\n",
       "      <th>behavioural_6</th>\n",
       "      <th>behavioural_7</th>\n",
       "      <th>behavioural_8</th>\n",
       "      <th>behavioural_9</th>\n",
       "      <th>behavioural_10</th>\n",
       "      <th>behavioural_11</th>\n",
       "      <th>behavioural_12</th>\n",
       "      <th>behavioural_13</th>\n",
       "      <th>behavioural_14</th>\n",
       "      <th>behavioural_15</th>\n",
       "      <th>behavioural_16</th>\n",
       "      <th>behavioural_17</th>\n",
       "    </tr>\n",
       "  </thead>\n",
       "  <tbody>\n",
       "    <tr>\n",
       "      <th>count</th>\n",
       "      <td>131108.000000</td>\n",
       "      <td>6.162400e+04</td>\n",
       "      <td>131108.000000</td>\n",
       "      <td>131108.000000</td>\n",
       "      <td>131108.00000</td>\n",
       "      <td>131108.000000</td>\n",
       "      <td>77254.000000</td>\n",
       "      <td>7300.0</td>\n",
       "      <td>16315.000000</td>\n",
       "      <td>126577.0</td>\n",
       "      <td>126577.000000</td>\n",
       "      <td>126577.000000</td>\n",
       "      <td>126577.000000</td>\n",
       "      <td>126577.000000</td>\n",
       "      <td>126577.000000</td>\n",
       "      <td>137.000000</td>\n",
       "      <td>74.000000</td>\n",
       "      <td>38.000000</td>\n",
       "      <td>0.0</td>\n",
       "    </tr>\n",
       "    <tr>\n",
       "      <th>mean</th>\n",
       "      <td>0.003821</td>\n",
       "      <td>1.128875e+04</td>\n",
       "      <td>0.002937</td>\n",
       "      <td>0.565076</td>\n",
       "      <td>0.02816</td>\n",
       "      <td>0.011365</td>\n",
       "      <td>3.887850</td>\n",
       "      <td>1.0</td>\n",
       "      <td>2.368005</td>\n",
       "      <td>1.0</td>\n",
       "      <td>2.841298</td>\n",
       "      <td>10.009978</td>\n",
       "      <td>7.389944</td>\n",
       "      <td>0.529946</td>\n",
       "      <td>0.616644</td>\n",
       "      <td>1.197080</td>\n",
       "      <td>1.324324</td>\n",
       "      <td>4.000000</td>\n",
       "      <td>NaN</td>\n",
       "    </tr>\n",
       "    <tr>\n",
       "      <th>std</th>\n",
       "      <td>0.061698</td>\n",
       "      <td>6.192144e+04</td>\n",
       "      <td>0.183691</td>\n",
       "      <td>0.495749</td>\n",
       "      <td>0.16543</td>\n",
       "      <td>0.105998</td>\n",
       "      <td>4.535759</td>\n",
       "      <td>0.0</td>\n",
       "      <td>4.651154</td>\n",
       "      <td>0.0</td>\n",
       "      <td>19.229753</td>\n",
       "      <td>105.479512</td>\n",
       "      <td>141.985364</td>\n",
       "      <td>8.952390</td>\n",
       "      <td>8.394210</td>\n",
       "      <td>0.566717</td>\n",
       "      <td>0.551663</td>\n",
       "      <td>6.251486</td>\n",
       "      <td>NaN</td>\n",
       "    </tr>\n",
       "    <tr>\n",
       "      <th>min</th>\n",
       "      <td>0.000000</td>\n",
       "      <td>1.000000e+00</td>\n",
       "      <td>0.000000</td>\n",
       "      <td>0.000000</td>\n",
       "      <td>0.00000</td>\n",
       "      <td>0.000000</td>\n",
       "      <td>1.000000</td>\n",
       "      <td>1.0</td>\n",
       "      <td>1.000000</td>\n",
       "      <td>1.0</td>\n",
       "      <td>0.000000</td>\n",
       "      <td>0.000000</td>\n",
       "      <td>0.000000</td>\n",
       "      <td>0.000000</td>\n",
       "      <td>0.000000</td>\n",
       "      <td>1.000000</td>\n",
       "      <td>1.000000</td>\n",
       "      <td>1.000000</td>\n",
       "      <td>NaN</td>\n",
       "    </tr>\n",
       "    <tr>\n",
       "      <th>25%</th>\n",
       "      <td>0.000000</td>\n",
       "      <td>1.280000e+02</td>\n",
       "      <td>0.000000</td>\n",
       "      <td>0.000000</td>\n",
       "      <td>0.00000</td>\n",
       "      <td>0.000000</td>\n",
       "      <td>1.000000</td>\n",
       "      <td>1.0</td>\n",
       "      <td>1.000000</td>\n",
       "      <td>1.0</td>\n",
       "      <td>0.000000</td>\n",
       "      <td>0.000000</td>\n",
       "      <td>0.000000</td>\n",
       "      <td>0.000000</td>\n",
       "      <td>0.000000</td>\n",
       "      <td>1.000000</td>\n",
       "      <td>1.000000</td>\n",
       "      <td>1.000000</td>\n",
       "      <td>NaN</td>\n",
       "    </tr>\n",
       "    <tr>\n",
       "      <th>50%</th>\n",
       "      <td>0.000000</td>\n",
       "      <td>6.600000e+02</td>\n",
       "      <td>0.000000</td>\n",
       "      <td>1.000000</td>\n",
       "      <td>0.00000</td>\n",
       "      <td>0.000000</td>\n",
       "      <td>3.000000</td>\n",
       "      <td>1.0</td>\n",
       "      <td>1.000000</td>\n",
       "      <td>1.0</td>\n",
       "      <td>0.000000</td>\n",
       "      <td>0.000000</td>\n",
       "      <td>0.000000</td>\n",
       "      <td>0.000000</td>\n",
       "      <td>0.000000</td>\n",
       "      <td>1.000000</td>\n",
       "      <td>1.000000</td>\n",
       "      <td>1.500000</td>\n",
       "      <td>NaN</td>\n",
       "    </tr>\n",
       "    <tr>\n",
       "      <th>75%</th>\n",
       "      <td>0.000000</td>\n",
       "      <td>4.850000e+03</td>\n",
       "      <td>0.000000</td>\n",
       "      <td>1.000000</td>\n",
       "      <td>0.00000</td>\n",
       "      <td>0.000000</td>\n",
       "      <td>5.000000</td>\n",
       "      <td>1.0</td>\n",
       "      <td>2.000000</td>\n",
       "      <td>1.0</td>\n",
       "      <td>1.000000</td>\n",
       "      <td>2.000000</td>\n",
       "      <td>0.000000</td>\n",
       "      <td>0.000000</td>\n",
       "      <td>0.000000</td>\n",
       "      <td>1.000000</td>\n",
       "      <td>2.000000</td>\n",
       "      <td>3.750000</td>\n",
       "      <td>NaN</td>\n",
       "    </tr>\n",
       "    <tr>\n",
       "      <th>max</th>\n",
       "      <td>1.000000</td>\n",
       "      <td>2.300000e+06</td>\n",
       "      <td>15.000000</td>\n",
       "      <td>1.000000</td>\n",
       "      <td>1.00000</td>\n",
       "      <td>1.000000</td>\n",
       "      <td>147.000000</td>\n",
       "      <td>1.0</td>\n",
       "      <td>132.000000</td>\n",
       "      <td>1.0</td>\n",
       "      <td>2817.000000</td>\n",
       "      <td>21264.000000</td>\n",
       "      <td>40322.000000</td>\n",
       "      <td>2667.000000</td>\n",
       "      <td>2271.000000</td>\n",
       "      <td>5.000000</td>\n",
       "      <td>3.000000</td>\n",
       "      <td>35.000000</td>\n",
       "      <td>NaN</td>\n",
       "    </tr>\n",
       "  </tbody>\n",
       "</table>\n",
       "</div>"
      ],
      "text/plain": [
       "              is_sao  demographic_6  behavioural_1  behavioural_2  \\\n",
       "count  131108.000000   6.162400e+04  131108.000000  131108.000000   \n",
       "mean        0.003821   1.128875e+04       0.002937       0.565076   \n",
       "std         0.061698   6.192144e+04       0.183691       0.495749   \n",
       "min         0.000000   1.000000e+00       0.000000       0.000000   \n",
       "25%         0.000000   1.280000e+02       0.000000       0.000000   \n",
       "50%         0.000000   6.600000e+02       0.000000       1.000000   \n",
       "75%         0.000000   4.850000e+03       0.000000       1.000000   \n",
       "max         1.000000   2.300000e+06      15.000000       1.000000   \n",
       "\n",
       "       behavioural_3  behavioural_4  behavioural_5  behavioural_6  \\\n",
       "count   131108.00000  131108.000000   77254.000000         7300.0   \n",
       "mean         0.02816       0.011365       3.887850            1.0   \n",
       "std          0.16543       0.105998       4.535759            0.0   \n",
       "min          0.00000       0.000000       1.000000            1.0   \n",
       "25%          0.00000       0.000000       1.000000            1.0   \n",
       "50%          0.00000       0.000000       3.000000            1.0   \n",
       "75%          0.00000       0.000000       5.000000            1.0   \n",
       "max          1.00000       1.000000     147.000000            1.0   \n",
       "\n",
       "       behavioural_7  behavioural_8  behavioural_9  behavioural_10  \\\n",
       "count   16315.000000       126577.0  126577.000000   126577.000000   \n",
       "mean        2.368005            1.0       2.841298       10.009978   \n",
       "std         4.651154            0.0      19.229753      105.479512   \n",
       "min         1.000000            1.0       0.000000        0.000000   \n",
       "25%         1.000000            1.0       0.000000        0.000000   \n",
       "50%         1.000000            1.0       0.000000        0.000000   \n",
       "75%         2.000000            1.0       1.000000        2.000000   \n",
       "max       132.000000            1.0    2817.000000    21264.000000   \n",
       "\n",
       "       behavioural_11  behavioural_12  behavioural_13  behavioural_14  \\\n",
       "count   126577.000000   126577.000000   126577.000000      137.000000   \n",
       "mean         7.389944        0.529946        0.616644        1.197080   \n",
       "std        141.985364        8.952390        8.394210        0.566717   \n",
       "min          0.000000        0.000000        0.000000        1.000000   \n",
       "25%          0.000000        0.000000        0.000000        1.000000   \n",
       "50%          0.000000        0.000000        0.000000        1.000000   \n",
       "75%          0.000000        0.000000        0.000000        1.000000   \n",
       "max      40322.000000     2667.000000     2271.000000        5.000000   \n",
       "\n",
       "       behavioural_15  behavioural_16  behavioural_17  \n",
       "count       74.000000       38.000000             0.0  \n",
       "mean         1.324324        4.000000             NaN  \n",
       "std          0.551663        6.251486             NaN  \n",
       "min          1.000000        1.000000             NaN  \n",
       "25%          1.000000        1.000000             NaN  \n",
       "50%          1.000000        1.500000             NaN  \n",
       "75%          2.000000        3.750000             NaN  \n",
       "max          3.000000       35.000000             NaN  "
      ]
     },
     "execution_count": 218,
     "metadata": {},
     "output_type": "execute_result"
    }
   ],
   "source": [
    "#several of the features appear to be binary, mix of categorical and continuous features \n",
    "df.describe()"
   ]
  },
  {
   "cell_type": "markdown",
   "metadata": {},
   "source": [
    "#### Observations: \n",
    "\n",
    "Can see the many of the behavioural features are binary, but there are several continous features that will need to be scaled later on so that the model doesn't over-emphasize their importance.\n",
    "\n",
    "We should also analyze the distributions of these features and remove any outliers."
   ]
  },
  {
   "cell_type": "code",
   "execution_count": 219,
   "metadata": {},
   "outputs": [
    {
     "data": {
      "text/plain": [
       "is_sao              0.000000\n",
       "demographic_1      91.636666\n",
       "demographic_2      52.227934\n",
       "demographic_3      52.227934\n",
       "demographic_4      52.227934\n",
       "demographic_5      52.227934\n",
       "demographic_6      52.997529\n",
       "behavioural_1       0.000000\n",
       "behavioural_2       0.000000\n",
       "behavioural_3       0.000000\n",
       "behavioural_4       0.000000\n",
       "behavioural_5      41.076059\n",
       "behavioural_6      94.432071\n",
       "behavioural_7      87.556061\n",
       "behavioural_8       3.455929\n",
       "behavioural_9       3.455929\n",
       "behavioural_10      3.455929\n",
       "behavioural_11      3.455929\n",
       "behavioural_12      3.455929\n",
       "behavioural_13      3.455929\n",
       "behavioural_14     99.895506\n",
       "behavioural_15     99.943558\n",
       "behavioural_16     99.971016\n",
       "behavioural_17    100.000000\n",
       "dtype: float64"
      ]
     },
     "execution_count": 219,
     "metadata": {},
     "output_type": "execute_result"
    }
   ],
   "source": [
    "#look at % of missing values by feature\n",
    "\n",
    "missing_values = df.isna().sum()\n",
    "\n",
    "percent_missing_features = missing_values/len(df)*100\n",
    "percent_missing_features"
   ]
  },
  {
   "cell_type": "code",
   "execution_count": 220,
   "metadata": {},
   "outputs": [
    {
     "data": {
      "image/png": "[encoded data removed]",
      "text/plain": [
       "<Figure size 432x288 with 1 Axes>"
      ]
     },
     "metadata": {
      "needs_background": "light"
     },
     "output_type": "display_data"
    }
   ],
   "source": [
    "#look at % missing values by row \n",
    "\n",
    "missing_values = df.isna().sum(axis=1)\n",
    "\n",
    "percent_missing_rows = missing_values/df.shape[1]*100\n",
    "\n",
    "# fig = plt.figure(figsize=(25,10))\n",
    "plt.hist(percent_missing_rows)\n",
    "plt.xlabel('% of values missing')\n",
    "plt.ylabel('count of rows')\n",
    "plt.show()"
   ]
  },
  {
   "cell_type": "markdown",
   "metadata": {},
   "source": [
    "### Check for Nulls"
   ]
  },
  {
   "cell_type": "code",
   "execution_count": 221,
   "metadata": {
    "scrolled": true
   },
   "outputs": [
    {
     "data": {
      "text/plain": [
       "is_sao                 0\n",
       "demographic_1     120143\n",
       "demographic_2      68475\n",
       "demographic_3      68475\n",
       "demographic_4      68475\n",
       "demographic_5      68475\n",
       "demographic_6      69484\n",
       "behavioural_1          0\n",
       "behavioural_2          0\n",
       "behavioural_3          0\n",
       "behavioural_4          0\n",
       "behavioural_5      53854\n",
       "behavioural_6     123808\n",
       "behavioural_7     114793\n",
       "behavioural_8       4531\n",
       "behavioural_9       4531\n",
       "behavioural_10      4531\n",
       "behavioural_11      4531\n",
       "behavioural_12      4531\n",
       "behavioural_13      4531\n",
       "behavioural_14    130971\n",
       "behavioural_15    131034\n",
       "behavioural_16    131070\n",
       "behavioural_17    131108\n",
       "dtype: int64"
      ]
     },
     "execution_count": 221,
     "metadata": {},
     "output_type": "execute_result"
    }
   ],
   "source": [
    "#check for null values\n",
    "df.isna().sum()"
   ]
  },
  {
   "cell_type": "code",
   "execution_count": 222,
   "metadata": {},
   "outputs": [
    {
     "data": {
      "text/html": [
       "<div>\n",
       "<style scoped>\n",
       "    .dataframe tbody tr th:only-of-type {\n",
       "        vertical-align: middle;\n",
       "    }\n",
       "\n",
       "    .dataframe tbody tr th {\n",
       "        vertical-align: top;\n",
       "    }\n",
       "\n",
       "    .dataframe thead th {\n",
       "        text-align: right;\n",
       "    }\n",
       "</style>\n",
       "<table border=\"1\" class=\"dataframe\">\n",
       "  <thead>\n",
       "    <tr style=\"text-align: right;\">\n",
       "      <th></th>\n",
       "      <th>is_sao</th>\n",
       "      <th>demographic_1</th>\n",
       "      <th>demographic_2</th>\n",
       "      <th>demographic_3</th>\n",
       "      <th>demographic_4</th>\n",
       "      <th>demographic_5</th>\n",
       "      <th>demographic_6</th>\n",
       "      <th>behavioural_1</th>\n",
       "      <th>behavioural_2</th>\n",
       "      <th>behavioural_3</th>\n",
       "      <th>...</th>\n",
       "      <th>behavioural_8</th>\n",
       "      <th>behavioural_9</th>\n",
       "      <th>behavioural_10</th>\n",
       "      <th>behavioural_11</th>\n",
       "      <th>behavioural_12</th>\n",
       "      <th>behavioural_13</th>\n",
       "      <th>behavioural_14</th>\n",
       "      <th>behavioural_15</th>\n",
       "      <th>behavioural_16</th>\n",
       "      <th>behavioural_17</th>\n",
       "    </tr>\n",
       "  </thead>\n",
       "  <tbody>\n",
       "    <tr>\n",
       "      <th>0</th>\n",
       "      <td>0</td>\n",
       "      <td>NaN</td>\n",
       "      <td>Education Services</td>\n",
       "      <td>Diversified Consumer Services</td>\n",
       "      <td>Education</td>\n",
       "      <td>Consumer Discretionary</td>\n",
       "      <td>1390.0</td>\n",
       "      <td>0</td>\n",
       "      <td>1</td>\n",
       "      <td>0</td>\n",
       "      <td>...</td>\n",
       "      <td>1.0</td>\n",
       "      <td>0.0</td>\n",
       "      <td>0.0</td>\n",
       "      <td>0.0</td>\n",
       "      <td>0.0</td>\n",
       "      <td>0.0</td>\n",
       "      <td>0.0</td>\n",
       "      <td>0.0</td>\n",
       "      <td>0.0</td>\n",
       "      <td>0.0</td>\n",
       "    </tr>\n",
       "    <tr>\n",
       "      <th>1</th>\n",
       "      <td>0</td>\n",
       "      <td>NaN</td>\n",
       "      <td>Hotels, Restaurants &amp; Leisure</td>\n",
       "      <td>Consumer Services</td>\n",
       "      <td>Hotels, Restaurants &amp; Leisure</td>\n",
       "      <td>Consumer Discretionary</td>\n",
       "      <td>30.0</td>\n",
       "      <td>0</td>\n",
       "      <td>1</td>\n",
       "      <td>0</td>\n",
       "      <td>...</td>\n",
       "      <td>1.0</td>\n",
       "      <td>0.0</td>\n",
       "      <td>0.0</td>\n",
       "      <td>0.0</td>\n",
       "      <td>0.0</td>\n",
       "      <td>0.0</td>\n",
       "      <td>0.0</td>\n",
       "      <td>0.0</td>\n",
       "      <td>0.0</td>\n",
       "      <td>0.0</td>\n",
       "    </tr>\n",
       "    <tr>\n",
       "      <th>2</th>\n",
       "      <td>0</td>\n",
       "      <td>NaN</td>\n",
       "      <td>Media</td>\n",
       "      <td>Media</td>\n",
       "      <td>Advertising</td>\n",
       "      <td>Consumer Discretionary</td>\n",
       "      <td>5570.0</td>\n",
       "      <td>0</td>\n",
       "      <td>1</td>\n",
       "      <td>0</td>\n",
       "      <td>...</td>\n",
       "      <td>1.0</td>\n",
       "      <td>0.0</td>\n",
       "      <td>0.0</td>\n",
       "      <td>0.0</td>\n",
       "      <td>0.0</td>\n",
       "      <td>0.0</td>\n",
       "      <td>0.0</td>\n",
       "      <td>0.0</td>\n",
       "      <td>0.0</td>\n",
       "      <td>0.0</td>\n",
       "    </tr>\n",
       "    <tr>\n",
       "      <th>3</th>\n",
       "      <td>0</td>\n",
       "      <td>NaN</td>\n",
       "      <td>Health Care Providers &amp; Services</td>\n",
       "      <td>Health Care Equipment &amp; Services</td>\n",
       "      <td>Health &amp; Wellness</td>\n",
       "      <td>Health Care</td>\n",
       "      <td>240.0</td>\n",
       "      <td>0</td>\n",
       "      <td>1</td>\n",
       "      <td>0</td>\n",
       "      <td>...</td>\n",
       "      <td>1.0</td>\n",
       "      <td>0.0</td>\n",
       "      <td>0.0</td>\n",
       "      <td>0.0</td>\n",
       "      <td>0.0</td>\n",
       "      <td>0.0</td>\n",
       "      <td>0.0</td>\n",
       "      <td>0.0</td>\n",
       "      <td>0.0</td>\n",
       "      <td>0.0</td>\n",
       "    </tr>\n",
       "    <tr>\n",
       "      <th>4</th>\n",
       "      <td>0</td>\n",
       "      <td>NaN</td>\n",
       "      <td>NaN</td>\n",
       "      <td>NaN</td>\n",
       "      <td>NaN</td>\n",
       "      <td>NaN</td>\n",
       "      <td>NaN</td>\n",
       "      <td>0</td>\n",
       "      <td>0</td>\n",
       "      <td>0</td>\n",
       "      <td>...</td>\n",
       "      <td>1.0</td>\n",
       "      <td>0.0</td>\n",
       "      <td>0.0</td>\n",
       "      <td>0.0</td>\n",
       "      <td>0.0</td>\n",
       "      <td>0.0</td>\n",
       "      <td>0.0</td>\n",
       "      <td>0.0</td>\n",
       "      <td>0.0</td>\n",
       "      <td>0.0</td>\n",
       "    </tr>\n",
       "    <tr>\n",
       "      <th>...</th>\n",
       "      <td>...</td>\n",
       "      <td>...</td>\n",
       "      <td>...</td>\n",
       "      <td>...</td>\n",
       "      <td>...</td>\n",
       "      <td>...</td>\n",
       "      <td>...</td>\n",
       "      <td>...</td>\n",
       "      <td>...</td>\n",
       "      <td>...</td>\n",
       "      <td>...</td>\n",
       "      <td>...</td>\n",
       "      <td>...</td>\n",
       "      <td>...</td>\n",
       "      <td>...</td>\n",
       "      <td>...</td>\n",
       "      <td>...</td>\n",
       "      <td>...</td>\n",
       "      <td>...</td>\n",
       "      <td>...</td>\n",
       "      <td>...</td>\n",
       "    </tr>\n",
       "    <tr>\n",
       "      <th>131103</th>\n",
       "      <td>0</td>\n",
       "      <td>NaN</td>\n",
       "      <td>NaN</td>\n",
       "      <td>NaN</td>\n",
       "      <td>NaN</td>\n",
       "      <td>NaN</td>\n",
       "      <td>NaN</td>\n",
       "      <td>0</td>\n",
       "      <td>0</td>\n",
       "      <td>1</td>\n",
       "      <td>...</td>\n",
       "      <td>0.0</td>\n",
       "      <td>0.0</td>\n",
       "      <td>0.0</td>\n",
       "      <td>0.0</td>\n",
       "      <td>0.0</td>\n",
       "      <td>0.0</td>\n",
       "      <td>0.0</td>\n",
       "      <td>0.0</td>\n",
       "      <td>0.0</td>\n",
       "      <td>0.0</td>\n",
       "    </tr>\n",
       "    <tr>\n",
       "      <th>131104</th>\n",
       "      <td>0</td>\n",
       "      <td>NaN</td>\n",
       "      <td>NaN</td>\n",
       "      <td>NaN</td>\n",
       "      <td>NaN</td>\n",
       "      <td>NaN</td>\n",
       "      <td>NaN</td>\n",
       "      <td>0</td>\n",
       "      <td>1</td>\n",
       "      <td>0</td>\n",
       "      <td>...</td>\n",
       "      <td>0.0</td>\n",
       "      <td>0.0</td>\n",
       "      <td>0.0</td>\n",
       "      <td>0.0</td>\n",
       "      <td>0.0</td>\n",
       "      <td>0.0</td>\n",
       "      <td>0.0</td>\n",
       "      <td>0.0</td>\n",
       "      <td>0.0</td>\n",
       "      <td>0.0</td>\n",
       "    </tr>\n",
       "    <tr>\n",
       "      <th>131105</th>\n",
       "      <td>0</td>\n",
       "      <td>NaN</td>\n",
       "      <td>NaN</td>\n",
       "      <td>NaN</td>\n",
       "      <td>NaN</td>\n",
       "      <td>NaN</td>\n",
       "      <td>NaN</td>\n",
       "      <td>0</td>\n",
       "      <td>1</td>\n",
       "      <td>0</td>\n",
       "      <td>...</td>\n",
       "      <td>0.0</td>\n",
       "      <td>0.0</td>\n",
       "      <td>0.0</td>\n",
       "      <td>0.0</td>\n",
       "      <td>0.0</td>\n",
       "      <td>0.0</td>\n",
       "      <td>0.0</td>\n",
       "      <td>0.0</td>\n",
       "      <td>0.0</td>\n",
       "      <td>0.0</td>\n",
       "    </tr>\n",
       "    <tr>\n",
       "      <th>131106</th>\n",
       "      <td>0</td>\n",
       "      <td>NaN</td>\n",
       "      <td>NaN</td>\n",
       "      <td>NaN</td>\n",
       "      <td>NaN</td>\n",
       "      <td>NaN</td>\n",
       "      <td>NaN</td>\n",
       "      <td>0</td>\n",
       "      <td>0</td>\n",
       "      <td>0</td>\n",
       "      <td>...</td>\n",
       "      <td>0.0</td>\n",
       "      <td>0.0</td>\n",
       "      <td>0.0</td>\n",
       "      <td>0.0</td>\n",
       "      <td>0.0</td>\n",
       "      <td>0.0</td>\n",
       "      <td>0.0</td>\n",
       "      <td>0.0</td>\n",
       "      <td>0.0</td>\n",
       "      <td>0.0</td>\n",
       "    </tr>\n",
       "    <tr>\n",
       "      <th>131107</th>\n",
       "      <td>0</td>\n",
       "      <td>NaN</td>\n",
       "      <td>Hotels, Restaurants &amp; Leisure</td>\n",
       "      <td>Consumer Services</td>\n",
       "      <td>Hotels, Restaurants &amp; Leisure</td>\n",
       "      <td>Consumer Discretionary</td>\n",
       "      <td>NaN</td>\n",
       "      <td>0</td>\n",
       "      <td>1</td>\n",
       "      <td>0</td>\n",
       "      <td>...</td>\n",
       "      <td>0.0</td>\n",
       "      <td>0.0</td>\n",
       "      <td>0.0</td>\n",
       "      <td>0.0</td>\n",
       "      <td>0.0</td>\n",
       "      <td>0.0</td>\n",
       "      <td>0.0</td>\n",
       "      <td>0.0</td>\n",
       "      <td>0.0</td>\n",
       "      <td>0.0</td>\n",
       "    </tr>\n",
       "  </tbody>\n",
       "</table>\n",
       "<p>131108 rows × 24 columns</p>\n",
       "</div>"
      ],
      "text/plain": [
       "        is_sao demographic_1                     demographic_2  \\\n",
       "0            0           NaN                Education Services   \n",
       "1            0           NaN     Hotels, Restaurants & Leisure   \n",
       "2            0           NaN                             Media   \n",
       "3            0           NaN  Health Care Providers & Services   \n",
       "4            0           NaN                               NaN   \n",
       "...        ...           ...                               ...   \n",
       "131103       0           NaN                               NaN   \n",
       "131104       0           NaN                               NaN   \n",
       "131105       0           NaN                               NaN   \n",
       "131106       0           NaN                               NaN   \n",
       "131107       0           NaN     Hotels, Restaurants & Leisure   \n",
       "\n",
       "                           demographic_3                  demographic_4  \\\n",
       "0          Diversified Consumer Services                      Education   \n",
       "1                      Consumer Services  Hotels, Restaurants & Leisure   \n",
       "2                                  Media                    Advertising   \n",
       "3       Health Care Equipment & Services              Health & Wellness   \n",
       "4                                    NaN                            NaN   \n",
       "...                                  ...                            ...   \n",
       "131103                               NaN                            NaN   \n",
       "131104                               NaN                            NaN   \n",
       "131105                               NaN                            NaN   \n",
       "131106                               NaN                            NaN   \n",
       "131107                 Consumer Services  Hotels, Restaurants & Leisure   \n",
       "\n",
       "                 demographic_5  demographic_6  behavioural_1  behavioural_2  \\\n",
       "0       Consumer Discretionary         1390.0              0              1   \n",
       "1       Consumer Discretionary           30.0              0              1   \n",
       "2       Consumer Discretionary         5570.0              0              1   \n",
       "3                  Health Care          240.0              0              1   \n",
       "4                          NaN            NaN              0              0   \n",
       "...                        ...            ...            ...            ...   \n",
       "131103                     NaN            NaN              0              0   \n",
       "131104                     NaN            NaN              0              1   \n",
       "131105                     NaN            NaN              0              1   \n",
       "131106                     NaN            NaN              0              0   \n",
       "131107  Consumer Discretionary            NaN              0              1   \n",
       "\n",
       "        behavioural_3  ...  behavioural_8  behavioural_9  behavioural_10  \\\n",
       "0                   0  ...            1.0            0.0             0.0   \n",
       "1                   0  ...            1.0            0.0             0.0   \n",
       "2                   0  ...            1.0            0.0             0.0   \n",
       "3                   0  ...            1.0            0.0             0.0   \n",
       "4                   0  ...            1.0            0.0             0.0   \n",
       "...               ...  ...            ...            ...             ...   \n",
       "131103              1  ...            0.0            0.0             0.0   \n",
       "131104              0  ...            0.0            0.0             0.0   \n",
       "131105              0  ...            0.0            0.0             0.0   \n",
       "131106              0  ...            0.0            0.0             0.0   \n",
       "131107              0  ...            0.0            0.0             0.0   \n",
       "\n",
       "        behavioural_11  behavioural_12  behavioural_13  behavioural_14  \\\n",
       "0                  0.0             0.0             0.0             0.0   \n",
       "1                  0.0             0.0             0.0             0.0   \n",
       "2                  0.0             0.0             0.0             0.0   \n",
       "3                  0.0             0.0             0.0             0.0   \n",
       "4                  0.0             0.0             0.0             0.0   \n",
       "...                ...             ...             ...             ...   \n",
       "131103             0.0             0.0             0.0             0.0   \n",
       "131104             0.0             0.0             0.0             0.0   \n",
       "131105             0.0             0.0             0.0             0.0   \n",
       "131106             0.0             0.0             0.0             0.0   \n",
       "131107             0.0             0.0             0.0             0.0   \n",
       "\n",
       "        behavioural_15  behavioural_16  behavioural_17  \n",
       "0                  0.0             0.0             0.0  \n",
       "1                  0.0             0.0             0.0  \n",
       "2                  0.0             0.0             0.0  \n",
       "3                  0.0             0.0             0.0  \n",
       "4                  0.0             0.0             0.0  \n",
       "...                ...             ...             ...  \n",
       "131103             0.0             0.0             0.0  \n",
       "131104             0.0             0.0             0.0  \n",
       "131105             0.0             0.0             0.0  \n",
       "131106             0.0             0.0             0.0  \n",
       "131107             0.0             0.0             0.0  \n",
       "\n",
       "[131108 rows x 24 columns]"
      ]
     },
     "execution_count": 222,
     "metadata": {},
     "output_type": "execute_result"
    }
   ],
   "source": [
    "#we can fill NaNs for numerical columns with 0 \n",
    "columns = df.iloc[:,7:].columns\n",
    "\n",
    "def fill_na(df,columns,value):\n",
    "    for col in columns:\n",
    "        df[col].fillna(value=value,inplace=True)\n",
    "    return df\n",
    "        \n",
    "fill_na(df=df,columns=columns,value=0)\n"
   ]
  },
  {
   "cell_type": "code",
   "execution_count": 223,
   "metadata": {},
   "outputs": [
    {
     "data": {
      "text/html": [
       "<div>\n",
       "<style scoped>\n",
       "    .dataframe tbody tr th:only-of-type {\n",
       "        vertical-align: middle;\n",
       "    }\n",
       "\n",
       "    .dataframe tbody tr th {\n",
       "        vertical-align: top;\n",
       "    }\n",
       "\n",
       "    .dataframe thead th {\n",
       "        text-align: right;\n",
       "    }\n",
       "</style>\n",
       "<table border=\"1\" class=\"dataframe\">\n",
       "  <thead>\n",
       "    <tr style=\"text-align: right;\">\n",
       "      <th></th>\n",
       "      <th>is_sao</th>\n",
       "      <th>demographic_1</th>\n",
       "      <th>demographic_2</th>\n",
       "      <th>demographic_3</th>\n",
       "      <th>demographic_4</th>\n",
       "      <th>demographic_5</th>\n",
       "      <th>demographic_6</th>\n",
       "      <th>behavioural_1</th>\n",
       "      <th>behavioural_2</th>\n",
       "      <th>behavioural_3</th>\n",
       "      <th>...</th>\n",
       "      <th>behavioural_8</th>\n",
       "      <th>behavioural_9</th>\n",
       "      <th>behavioural_10</th>\n",
       "      <th>behavioural_11</th>\n",
       "      <th>behavioural_12</th>\n",
       "      <th>behavioural_13</th>\n",
       "      <th>behavioural_14</th>\n",
       "      <th>behavioural_15</th>\n",
       "      <th>behavioural_16</th>\n",
       "      <th>behavioural_17</th>\n",
       "    </tr>\n",
       "  </thead>\n",
       "  <tbody>\n",
       "    <tr>\n",
       "      <th>0</th>\n",
       "      <td>0</td>\n",
       "      <td>none</td>\n",
       "      <td>Education Services</td>\n",
       "      <td>Diversified Consumer Services</td>\n",
       "      <td>Education</td>\n",
       "      <td>Consumer Discretionary</td>\n",
       "      <td>1390.0</td>\n",
       "      <td>0</td>\n",
       "      <td>1</td>\n",
       "      <td>0</td>\n",
       "      <td>...</td>\n",
       "      <td>1.0</td>\n",
       "      <td>0.0</td>\n",
       "      <td>0.0</td>\n",
       "      <td>0.0</td>\n",
       "      <td>0.0</td>\n",
       "      <td>0.0</td>\n",
       "      <td>0.0</td>\n",
       "      <td>0.0</td>\n",
       "      <td>0.0</td>\n",
       "      <td>0.0</td>\n",
       "    </tr>\n",
       "    <tr>\n",
       "      <th>1</th>\n",
       "      <td>0</td>\n",
       "      <td>none</td>\n",
       "      <td>Hotels, Restaurants &amp; Leisure</td>\n",
       "      <td>Consumer Services</td>\n",
       "      <td>Hotels, Restaurants &amp; Leisure</td>\n",
       "      <td>Consumer Discretionary</td>\n",
       "      <td>30.0</td>\n",
       "      <td>0</td>\n",
       "      <td>1</td>\n",
       "      <td>0</td>\n",
       "      <td>...</td>\n",
       "      <td>1.0</td>\n",
       "      <td>0.0</td>\n",
       "      <td>0.0</td>\n",
       "      <td>0.0</td>\n",
       "      <td>0.0</td>\n",
       "      <td>0.0</td>\n",
       "      <td>0.0</td>\n",
       "      <td>0.0</td>\n",
       "      <td>0.0</td>\n",
       "      <td>0.0</td>\n",
       "    </tr>\n",
       "    <tr>\n",
       "      <th>2</th>\n",
       "      <td>0</td>\n",
       "      <td>none</td>\n",
       "      <td>Media</td>\n",
       "      <td>Media</td>\n",
       "      <td>Advertising</td>\n",
       "      <td>Consumer Discretionary</td>\n",
       "      <td>5570.0</td>\n",
       "      <td>0</td>\n",
       "      <td>1</td>\n",
       "      <td>0</td>\n",
       "      <td>...</td>\n",
       "      <td>1.0</td>\n",
       "      <td>0.0</td>\n",
       "      <td>0.0</td>\n",
       "      <td>0.0</td>\n",
       "      <td>0.0</td>\n",
       "      <td>0.0</td>\n",
       "      <td>0.0</td>\n",
       "      <td>0.0</td>\n",
       "      <td>0.0</td>\n",
       "      <td>0.0</td>\n",
       "    </tr>\n",
       "    <tr>\n",
       "      <th>3</th>\n",
       "      <td>0</td>\n",
       "      <td>none</td>\n",
       "      <td>Health Care Providers &amp; Services</td>\n",
       "      <td>Health Care Equipment &amp; Services</td>\n",
       "      <td>Health &amp; Wellness</td>\n",
       "      <td>Health Care</td>\n",
       "      <td>240.0</td>\n",
       "      <td>0</td>\n",
       "      <td>1</td>\n",
       "      <td>0</td>\n",
       "      <td>...</td>\n",
       "      <td>1.0</td>\n",
       "      <td>0.0</td>\n",
       "      <td>0.0</td>\n",
       "      <td>0.0</td>\n",
       "      <td>0.0</td>\n",
       "      <td>0.0</td>\n",
       "      <td>0.0</td>\n",
       "      <td>0.0</td>\n",
       "      <td>0.0</td>\n",
       "      <td>0.0</td>\n",
       "    </tr>\n",
       "    <tr>\n",
       "      <th>4</th>\n",
       "      <td>0</td>\n",
       "      <td>none</td>\n",
       "      <td>none</td>\n",
       "      <td>none</td>\n",
       "      <td>none</td>\n",
       "      <td>none</td>\n",
       "      <td>NaN</td>\n",
       "      <td>0</td>\n",
       "      <td>0</td>\n",
       "      <td>0</td>\n",
       "      <td>...</td>\n",
       "      <td>1.0</td>\n",
       "      <td>0.0</td>\n",
       "      <td>0.0</td>\n",
       "      <td>0.0</td>\n",
       "      <td>0.0</td>\n",
       "      <td>0.0</td>\n",
       "      <td>0.0</td>\n",
       "      <td>0.0</td>\n",
       "      <td>0.0</td>\n",
       "      <td>0.0</td>\n",
       "    </tr>\n",
       "    <tr>\n",
       "      <th>...</th>\n",
       "      <td>...</td>\n",
       "      <td>...</td>\n",
       "      <td>...</td>\n",
       "      <td>...</td>\n",
       "      <td>...</td>\n",
       "      <td>...</td>\n",
       "      <td>...</td>\n",
       "      <td>...</td>\n",
       "      <td>...</td>\n",
       "      <td>...</td>\n",
       "      <td>...</td>\n",
       "      <td>...</td>\n",
       "      <td>...</td>\n",
       "      <td>...</td>\n",
       "      <td>...</td>\n",
       "      <td>...</td>\n",
       "      <td>...</td>\n",
       "      <td>...</td>\n",
       "      <td>...</td>\n",
       "      <td>...</td>\n",
       "      <td>...</td>\n",
       "    </tr>\n",
       "    <tr>\n",
       "      <th>131103</th>\n",
       "      <td>0</td>\n",
       "      <td>none</td>\n",
       "      <td>none</td>\n",
       "      <td>none</td>\n",
       "      <td>none</td>\n",
       "      <td>none</td>\n",
       "      <td>NaN</td>\n",
       "      <td>0</td>\n",
       "      <td>0</td>\n",
       "      <td>1</td>\n",
       "      <td>...</td>\n",
       "      <td>0.0</td>\n",
       "      <td>0.0</td>\n",
       "      <td>0.0</td>\n",
       "      <td>0.0</td>\n",
       "      <td>0.0</td>\n",
       "      <td>0.0</td>\n",
       "      <td>0.0</td>\n",
       "      <td>0.0</td>\n",
       "      <td>0.0</td>\n",
       "      <td>0.0</td>\n",
       "    </tr>\n",
       "    <tr>\n",
       "      <th>131104</th>\n",
       "      <td>0</td>\n",
       "      <td>none</td>\n",
       "      <td>none</td>\n",
       "      <td>none</td>\n",
       "      <td>none</td>\n",
       "      <td>none</td>\n",
       "      <td>NaN</td>\n",
       "      <td>0</td>\n",
       "      <td>1</td>\n",
       "      <td>0</td>\n",
       "      <td>...</td>\n",
       "      <td>0.0</td>\n",
       "      <td>0.0</td>\n",
       "      <td>0.0</td>\n",
       "      <td>0.0</td>\n",
       "      <td>0.0</td>\n",
       "      <td>0.0</td>\n",
       "      <td>0.0</td>\n",
       "      <td>0.0</td>\n",
       "      <td>0.0</td>\n",
       "      <td>0.0</td>\n",
       "    </tr>\n",
       "    <tr>\n",
       "      <th>131105</th>\n",
       "      <td>0</td>\n",
       "      <td>none</td>\n",
       "      <td>none</td>\n",
       "      <td>none</td>\n",
       "      <td>none</td>\n",
       "      <td>none</td>\n",
       "      <td>NaN</td>\n",
       "      <td>0</td>\n",
       "      <td>1</td>\n",
       "      <td>0</td>\n",
       "      <td>...</td>\n",
       "      <td>0.0</td>\n",
       "      <td>0.0</td>\n",
       "      <td>0.0</td>\n",
       "      <td>0.0</td>\n",
       "      <td>0.0</td>\n",
       "      <td>0.0</td>\n",
       "      <td>0.0</td>\n",
       "      <td>0.0</td>\n",
       "      <td>0.0</td>\n",
       "      <td>0.0</td>\n",
       "    </tr>\n",
       "    <tr>\n",
       "      <th>131106</th>\n",
       "      <td>0</td>\n",
       "      <td>none</td>\n",
       "      <td>none</td>\n",
       "      <td>none</td>\n",
       "      <td>none</td>\n",
       "      <td>none</td>\n",
       "      <td>NaN</td>\n",
       "      <td>0</td>\n",
       "      <td>0</td>\n",
       "      <td>0</td>\n",
       "      <td>...</td>\n",
       "      <td>0.0</td>\n",
       "      <td>0.0</td>\n",
       "      <td>0.0</td>\n",
       "      <td>0.0</td>\n",
       "      <td>0.0</td>\n",
       "      <td>0.0</td>\n",
       "      <td>0.0</td>\n",
       "      <td>0.0</td>\n",
       "      <td>0.0</td>\n",
       "      <td>0.0</td>\n",
       "    </tr>\n",
       "    <tr>\n",
       "      <th>131107</th>\n",
       "      <td>0</td>\n",
       "      <td>none</td>\n",
       "      <td>Hotels, Restaurants &amp; Leisure</td>\n",
       "      <td>Consumer Services</td>\n",
       "      <td>Hotels, Restaurants &amp; Leisure</td>\n",
       "      <td>Consumer Discretionary</td>\n",
       "      <td>NaN</td>\n",
       "      <td>0</td>\n",
       "      <td>1</td>\n",
       "      <td>0</td>\n",
       "      <td>...</td>\n",
       "      <td>0.0</td>\n",
       "      <td>0.0</td>\n",
       "      <td>0.0</td>\n",
       "      <td>0.0</td>\n",
       "      <td>0.0</td>\n",
       "      <td>0.0</td>\n",
       "      <td>0.0</td>\n",
       "      <td>0.0</td>\n",
       "      <td>0.0</td>\n",
       "      <td>0.0</td>\n",
       "    </tr>\n",
       "  </tbody>\n",
       "</table>\n",
       "<p>131108 rows × 24 columns</p>\n",
       "</div>"
      ],
      "text/plain": [
       "        is_sao demographic_1                     demographic_2  \\\n",
       "0            0          none                Education Services   \n",
       "1            0          none     Hotels, Restaurants & Leisure   \n",
       "2            0          none                             Media   \n",
       "3            0          none  Health Care Providers & Services   \n",
       "4            0          none                              none   \n",
       "...        ...           ...                               ...   \n",
       "131103       0          none                              none   \n",
       "131104       0          none                              none   \n",
       "131105       0          none                              none   \n",
       "131106       0          none                              none   \n",
       "131107       0          none     Hotels, Restaurants & Leisure   \n",
       "\n",
       "                           demographic_3                  demographic_4  \\\n",
       "0          Diversified Consumer Services                      Education   \n",
       "1                      Consumer Services  Hotels, Restaurants & Leisure   \n",
       "2                                  Media                    Advertising   \n",
       "3       Health Care Equipment & Services              Health & Wellness   \n",
       "4                                   none                           none   \n",
       "...                                  ...                            ...   \n",
       "131103                              none                           none   \n",
       "131104                              none                           none   \n",
       "131105                              none                           none   \n",
       "131106                              none                           none   \n",
       "131107                 Consumer Services  Hotels, Restaurants & Leisure   \n",
       "\n",
       "                 demographic_5  demographic_6  behavioural_1  behavioural_2  \\\n",
       "0       Consumer Discretionary         1390.0              0              1   \n",
       "1       Consumer Discretionary           30.0              0              1   \n",
       "2       Consumer Discretionary         5570.0              0              1   \n",
       "3                  Health Care          240.0              0              1   \n",
       "4                         none            NaN              0              0   \n",
       "...                        ...            ...            ...            ...   \n",
       "131103                    none            NaN              0              0   \n",
       "131104                    none            NaN              0              1   \n",
       "131105                    none            NaN              0              1   \n",
       "131106                    none            NaN              0              0   \n",
       "131107  Consumer Discretionary            NaN              0              1   \n",
       "\n",
       "        behavioural_3  ...  behavioural_8  behavioural_9  behavioural_10  \\\n",
       "0                   0  ...            1.0            0.0             0.0   \n",
       "1                   0  ...            1.0            0.0             0.0   \n",
       "2                   0  ...            1.0            0.0             0.0   \n",
       "3                   0  ...            1.0            0.0             0.0   \n",
       "4                   0  ...            1.0            0.0             0.0   \n",
       "...               ...  ...            ...            ...             ...   \n",
       "131103              1  ...            0.0            0.0             0.0   \n",
       "131104              0  ...            0.0            0.0             0.0   \n",
       "131105              0  ...            0.0            0.0             0.0   \n",
       "131106              0  ...            0.0            0.0             0.0   \n",
       "131107              0  ...            0.0            0.0             0.0   \n",
       "\n",
       "        behavioural_11  behavioural_12  behavioural_13  behavioural_14  \\\n",
       "0                  0.0             0.0             0.0             0.0   \n",
       "1                  0.0             0.0             0.0             0.0   \n",
       "2                  0.0             0.0             0.0             0.0   \n",
       "3                  0.0             0.0             0.0             0.0   \n",
       "4                  0.0             0.0             0.0             0.0   \n",
       "...                ...             ...             ...             ...   \n",
       "131103             0.0             0.0             0.0             0.0   \n",
       "131104             0.0             0.0             0.0             0.0   \n",
       "131105             0.0             0.0             0.0             0.0   \n",
       "131106             0.0             0.0             0.0             0.0   \n",
       "131107             0.0             0.0             0.0             0.0   \n",
       "\n",
       "        behavioural_15  behavioural_16  behavioural_17  \n",
       "0                  0.0             0.0             0.0  \n",
       "1                  0.0             0.0             0.0  \n",
       "2                  0.0             0.0             0.0  \n",
       "3                  0.0             0.0             0.0  \n",
       "4                  0.0             0.0             0.0  \n",
       "...                ...             ...             ...  \n",
       "131103             0.0             0.0             0.0  \n",
       "131104             0.0             0.0             0.0  \n",
       "131105             0.0             0.0             0.0  \n",
       "131106             0.0             0.0             0.0  \n",
       "131107             0.0             0.0             0.0  \n",
       "\n",
       "[131108 rows x 24 columns]"
      ]
     },
     "execution_count": 223,
     "metadata": {},
     "output_type": "execute_result"
    }
   ],
   "source": [
    "#replace NaNs in categorical columns with string 'none'\n",
    "categorical_columns = df.iloc[:,1:6]\n",
    "\n",
    "fill_na(df=df,columns=categorical_columns,value='none')"
   ]
  },
  {
   "cell_type": "code",
   "execution_count": 224,
   "metadata": {},
   "outputs": [
    {
     "data": {
      "text/plain": [
       "is_sao                0\n",
       "demographic_1         0\n",
       "demographic_2         0\n",
       "demographic_3         0\n",
       "demographic_4         0\n",
       "demographic_5         0\n",
       "demographic_6     69484\n",
       "behavioural_1         0\n",
       "behavioural_2         0\n",
       "behavioural_3         0\n",
       "behavioural_4         0\n",
       "behavioural_5         0\n",
       "behavioural_6         0\n",
       "behavioural_7         0\n",
       "behavioural_8         0\n",
       "behavioural_9         0\n",
       "behavioural_10        0\n",
       "behavioural_11        0\n",
       "behavioural_12        0\n",
       "behavioural_13        0\n",
       "behavioural_14        0\n",
       "behavioural_15        0\n",
       "behavioural_16        0\n",
       "behavioural_17        0\n",
       "dtype: int64"
      ]
     },
     "execution_count": 224,
     "metadata": {},
     "output_type": "execute_result"
    }
   ],
   "source": [
    "df.isna().sum()"
   ]
  },
  {
   "cell_type": "markdown",
   "metadata": {},
   "source": [
    "### Check for outliers\n",
    "\n",
    "Replace with mean values\n"
   ]
  },
  {
   "cell_type": "code",
   "execution_count": 225,
   "metadata": {
    "scrolled": true
   },
   "outputs": [
    {
     "data": {
      "image/png": "[encoded data removed]",
      "text/plain": [
       "<Figure size 432x288 with 1 Axes>"
      ]
     },
     "metadata": {
      "needs_background": "light"
     },
     "output_type": "display_data"
    },
    {
     "data": {
      "image/png": "[encoded data removed]",
      "text/plain": [
       "<Figure size 432x288 with 1 Axes>"
      ]
     },
     "metadata": {
      "needs_background": "light"
     },
     "output_type": "display_data"
    },
    {
     "data": {
      "image/png": "[encoded data removed]",
      "text/plain": [
       "<Figure size 432x288 with 1 Axes>"
      ]
     },
     "metadata": {
      "needs_background": "light"
     },
     "output_type": "display_data"
    },
    {
     "data": {
      "image/png": "[encoded data removed]",
      "text/plain": [
       "<Figure size 432x288 with 1 Axes>"
      ]
     },
     "metadata": {
      "needs_background": "light"
     },
     "output_type": "display_data"
    },
    {
     "data": {
      "image/png": "[encoded data removed]",
      "text/plain": [
       "<Figure size 432x288 with 1 Axes>"
      ]
     },
     "metadata": {
      "needs_background": "light"
     },
     "output_type": "display_data"
    },
    {
     "data": {
      "image/png": "[encoded data removed]",
      "text/plain": [
       "<Figure size 432x288 with 1 Axes>"
      ]
     },
     "metadata": {
      "needs_background": "light"
     },
     "output_type": "display_data"
    },
    {
     "data": {
      "image/png": "[encoded data removed]",
      "text/plain": [
       "<Figure size 432x288 with 1 Axes>"
      ]
     },
     "metadata": {
      "needs_background": "light"
     },
     "output_type": "display_data"
    },
    {
     "data": {
      "image/png": "[encoded data removed]",
      "text/plain": [
       "<Figure size 432x288 with 1 Axes>"
      ]
     },
     "metadata": {
      "needs_background": "light"
     },
     "output_type": "display_data"
    },
    {
     "data": {
      "image/png": "[encoded data removed]",
      "text/plain": [
       "<Figure size 432x288 with 1 Axes>"
      ]
     },
     "metadata": {
      "needs_background": "light"
     },
     "output_type": "display_data"
    },
    {
     "data": {
      "image/png": "[encoded data removed]",
      "text/plain": [
       "<Figure size 432x288 with 1 Axes>"
      ]
     },
     "metadata": {
      "needs_background": "light"
     },
     "output_type": "display_data"
    },
    {
     "data": {
      "image/png": "[encoded data removed]",
      "text/plain": [
       "<Figure size 432x288 with 1 Axes>"
      ]
     },
     "metadata": {
      "needs_background": "light"
     },
     "output_type": "display_data"
    },
    {
     "data": {
      "image/png": "[encoded data removed]",
      "text/plain": [
       "<Figure size 432x288 with 1 Axes>"
      ]
     },
     "metadata": {
      "needs_background": "light"
     },
     "output_type": "display_data"
    },
    {
     "data": {
      "image/png": "[encoded data removed]",
      "text/plain": [
       "<Figure size 432x288 with 1 Axes>"
      ]
     },
     "metadata": {
      "needs_background": "light"
     },
     "output_type": "display_data"
    },
    {
     "data": {
      "image/png": "[encoded data removed]",
      "text/plain": [
       "<Figure size 432x288 with 1 Axes>"
      ]
     },
     "metadata": {
      "needs_background": "light"
     },
     "output_type": "display_data"
    },
    {
     "data": {
      "image/png": "[encoded data removed]",
      "text/plain": [
       "<Figure size 432x288 with 1 Axes>"
      ]
     },
     "metadata": {
      "needs_background": "light"
     },
     "output_type": "display_data"
    },
    {
     "data": {
      "image/png": "[encoded data removed]",
      "text/plain": [
       "<Figure size 432x288 with 1 Axes>"
      ]
     },
     "metadata": {
      "needs_background": "light"
     },
     "output_type": "display_data"
    },
    {
     "data": {
      "image/png": "[encoded data removed]",
      "text/plain": [
       "<Figure size 432x288 with 1 Axes>"
      ]
     },
     "metadata": {
      "needs_background": "light"
     },
     "output_type": "display_data"
    }
   ],
   "source": [
    "behavioural_columns = df.iloc[:,7:].columns\n",
    "\n",
    "for col in behavioural_columns:\n",
    "    x = df.index\n",
    "    y = df[col]\n",
    "    plt.scatter(x,y)\n",
    "    plt.title(col)\n",
    "    plt.show()"
   ]
  },
  {
   "cell_type": "markdown",
   "metadata": {},
   "source": [
    "Can see that while most features are binary, the following features have outliers that should be removed:\n",
    "\n",
    "- behavioural_5\n",
    "- behavioural_9\n",
    "- behavioural_10\n",
    "- behavioural_11\n",
    "- behavioural_12\n",
    "- behavioural_13\n",
    "- behavioural_16\n",
    "\n",
    "It looks like these outliers values might belong to a single row,  which would make life easier. "
   ]
  },
  {
   "cell_type": "code",
   "execution_count": 226,
   "metadata": {},
   "outputs": [],
   "source": [
    "outlier_columns = ['behavioural_5','behavioural_9','behavioural_10','behavioural_11','behavioural_12','behavioural_13','behavioural_16']\n",
    "\n",
    "for col in outlier_columns:\n",
    "    outlier = df[col].max()\n",
    "    outlier_index = df.index[df[col]==outlier].tolist()\n",
    "    df.replace(to_replace=df[col].iloc[outlier_index],value=df[col].mean())"
   ]
  },
  {
   "cell_type": "markdown",
   "metadata": {},
   "source": [
    "### Impute values for demographic_6 (only quantitative demographic feature)"
   ]
  },
  {
   "cell_type": "code",
   "execution_count": 227,
   "metadata": {},
   "outputs": [
    {
     "data": {
      "text/plain": [
       "150.0       2826\n",
       "30.0        2176\n",
       "20760.0     2001\n",
       "4001.0      1859\n",
       "5.0         1478\n",
       "            ... \n",
       "224.0          1\n",
       "2890.0         1\n",
       "17080.0        1\n",
       "31800.0        1\n",
       "148000.0       1\n",
       "Name: demographic_6, Length: 1951, dtype: int64"
      ]
     },
     "execution_count": 227,
     "metadata": {},
     "output_type": "execute_result"
    }
   ],
   "source": [
    "#determine whether demographic_6 is continous or categorical\n",
    "#can see that is is not a categorical variable as I thought, will need to impute values\n",
    "df['demographic_6'].value_counts().sort_values(ascending=False)"
   ]
  },
  {
   "cell_type": "code",
   "execution_count": 228,
   "metadata": {},
   "outputs": [
    {
     "name": "stdout",
     "output_type": "stream",
     "text": [
      "11288.753245488771\n"
     ]
    },
    {
     "data": {
      "image/png": "[encoded data removed]",
      "text/plain": [
       "<Figure size 432x288 with 1 Axes>"
      ]
     },
     "metadata": {
      "needs_background": "light"
     },
     "output_type": "display_data"
    }
   ],
   "source": [
    "#fill NaNs with the mean value (don't want to use median because it's zero due to nulls) \n",
    "#confirm that filling with the mean appears reasonable based on distribution & value counts\n",
    "df['demographic_6'].hist();\n",
    "print(df['demographic_6'].mean())\n"
   ]
  },
  {
   "cell_type": "code",
   "execution_count": 229,
   "metadata": {},
   "outputs": [
    {
     "data": {
      "text/plain": [
       "11288.753245     69484\n",
       "150.000000        2826\n",
       "30.000000         2176\n",
       "20760.000000      2001\n",
       "4001.000000       1859\n",
       "                 ...  \n",
       "26650.000000         1\n",
       "5390.000000          1\n",
       "6660.000000          1\n",
       "18440.000000         1\n",
       "148000.000000        1\n",
       "Name: demographic_6, Length: 1952, dtype: int64"
      ]
     },
     "execution_count": 229,
     "metadata": {},
     "output_type": "execute_result"
    }
   ],
   "source": [
    "imp = SimpleImputer(missing_values=np.nan, strategy='mean')\n",
    "df['demographic_6'] = pd.DataFrame(imp.fit_transform(df[['demographic_6']]))\n",
    "df['demographic_6'].value_counts()"
   ]
  },
  {
   "cell_type": "markdown",
   "metadata": {},
   "source": [
    "### One-hot-encode categorical data"
   ]
  },
  {
   "cell_type": "code",
   "execution_count": 231,
   "metadata": {
    "scrolled": true
   },
   "outputs": [],
   "source": [
    "#now create dummy columns for categorical variables\n",
    "\n",
    "dummy_df = pd.get_dummies(categorical_columns,dtype=int)\n",
    "df = pd.concat([df,dummy_df],axis=1)"
   ]
  },
  {
   "cell_type": "markdown",
   "metadata": {},
   "source": [
    "### Drop original categorical columns"
   ]
  },
  {
   "cell_type": "code",
   "execution_count": 232,
   "metadata": {},
   "outputs": [
    {
     "name": "stdout",
     "output_type": "stream",
     "text": [
      "<class 'pandas.core.frame.DataFrame'>\n",
      "RangeIndex: 131108 entries, 0 to 131107\n",
      "Columns: 205 entries, is_sao to demographic_5_Utilities\n",
      "dtypes: float64(14), int64(191)\n",
      "memory usage: 205.1 MB\n"
     ]
    }
   ],
   "source": [
    "df.drop(columns=categorical_columns,inplace=True)\n",
    "\n",
    "#confirm all columns are either int or float\n",
    "df.info()"
   ]
  },
  {
   "cell_type": "markdown",
   "metadata": {},
   "source": [
    "### Divide data into train & test \n",
    "\n",
    "Do this before scaling data to avoid biasing the test data with mean and std from complete dataset"
   ]
  },
  {
   "cell_type": "code",
   "execution_count": 240,
   "metadata": {},
   "outputs": [],
   "source": [
    "target = [\"is_sao\"]\n",
    "\n",
    "y = df[\"is_sao\"]\n",
    "X = df.drop(target,axis=1)\n",
    "\n",
    "X_train, X_test, y_train, y_test = train_test_split(X,y)"
   ]
  },
  {
   "cell_type": "markdown",
   "metadata": {},
   "source": [
    "### Scale data - Standardize continous features\n",
    "\n",
    "Note: depending on algorithms used, we may not need to standardize the data. Only distance based algorithms will benefit from standardized data"
   ]
  },
  {
   "cell_type": "code",
   "execution_count": 128,
   "metadata": {},
   "outputs": [
    {
     "name": "stdout",
     "output_type": "stream",
     "text": [
      "demographic_6\n",
      "behavioural_1\n",
      "behavioural_5\n",
      "behavioural_7\n",
      "behavioural_9\n",
      "behavioural_10\n",
      "behavioural_11\n",
      "behavioural_12\n",
      "behavioural_13\n",
      "behavioural_14\n",
      "behavioural_15\n",
      "behavioural_16\n"
     ]
    }
   ],
   "source": [
    "#determine which columns need to be scaled by looking at columns with a max value > 1\n",
    "for col in df.columns:\n",
    "    if df[col].max() > 1:\n",
    "        print(col)"
   ]
  },
  {
   "cell_type": "markdown",
   "metadata": {},
   "source": [
    "As all the behavioural columns are a count of the number of times an action was performed, there is no need to scale these given the align with how the model will interpret the scale of the feature. \n",
    "\n",
    "In contrast, the demographic_6 column will need to be scaled to ensure it is not over-weighted or emphasized by the model "
   ]
  },
  {
   "cell_type": "code",
   "execution_count": 129,
   "metadata": {},
   "outputs": [],
   "source": [
    "def standardize_data(X_train,columns):\n",
    "    for col in columns: \n",
    "#         data = np.array(df[col])\n",
    "        scaler = StandardScaler()\n",
    "        X_train[col] = scaler.fit_transform(X_train[col].values.reshape(-1,1))\n",
    "    return X_train"
   ]
  },
  {
   "cell_type": "code",
   "execution_count": 130,
   "metadata": {},
   "outputs": [
    {
     "name": "stderr",
     "output_type": "stream",
     "text": [
      "/Users/erinhayes/opt/miniconda3/lib/python3.7/site-packages/ipykernel_launcher.py:5: SettingWithCopyWarning: \n",
      "A value is trying to be set on a copy of a slice from a DataFrame.\n",
      "Try using .loc[row_indexer,col_indexer] = value instead\n",
      "\n",
      "See the caveats in the documentation: http://pandas.pydata.org/pandas-docs/stable/user_guide/indexing.html#returning-a-view-versus-a-copy\n",
      "  \"\"\"\n"
     ]
    }
   ],
   "source": [
    "continuous_columns = ['demographic_6']\n",
    "\n",
    "X_train_scaled = standardize_data(X_train,continuous_columns)"
   ]
  },
  {
   "cell_type": "markdown",
   "metadata": {},
   "source": [
    "### Build pipeline"
   ]
  },
  {
   "cell_type": "code",
   "execution_count": 241,
   "metadata": {},
   "outputs": [],
   "source": [
    "def fit_random_forest_classifier(X,y,scale_data,n_estimators,max_depth,min_samples_split):\n",
    "    '''\n",
    "    INPUT: data, boolean for whether we want to scale the data, and specify hyperparameters\n",
    "    OUTPUT: none - prints the accuracy, precision & recall scores for the model\n",
    "    '''\n",
    "        \n",
    "    #divide data into test and train\n",
    "    X_train, X_test, y_train, y_test = train_test_split(X, y, test_size=0.33, random_state=42)\n",
    "    \n",
    "    #determine whether to scale data\n",
    "    if scale_data == True:\n",
    "        X_train = standardize_data(X_train,continuous_columns)\n",
    "        X_test = standardize_data(X_test,continuous_columns)\n",
    "    \n",
    "    #instantiate model\n",
    "    clf = RandomForestClassifier(n_estimators=n_estimators, max_depth=max_depth,min_samples_split=min_samples_split)\n",
    "    \n",
    "    #fit model\n",
    "    model = clf.fit(X_train, y_train)\n",
    "        \n",
    "    #predict\n",
    "    y_preds = clf.predict(X_test)\n",
    "\n",
    "    #score\n",
    "    acc = accuracy_score(y_test, y_preds)\n",
    "    precision = precision_score(y_test, y_preds)\n",
    "    recall = recall_score(y_test, y_preds)\n",
    "    fbeta = fbeta_score(y_test, y_preds,beta=.5)\n",
    "    \n",
    "    print(f\"accuracy score = {acc}\".format(acc=acc))\n",
    "    print(f\"precision = {precision}\".format(precision=precision))\n",
    "    print(f\"recall = {recall}\".format(recall=recall))\n",
    "    print(f\"fbeta = {fbeta}\".format(fbeta=fbeta))"
   ]
  },
  {
   "cell_type": "code",
   "execution_count": 242,
   "metadata": {},
   "outputs": [],
   "source": [
    "def fit_model(X,y,scale_data,model_type):\n",
    "    \"\"\" \n",
    "    define generic function to instantiate & fit model, return evaluation metrics\n",
    "    \n",
    "    \"\"\"\n",
    "    #divide data into test and train\n",
    "    X_train, X_test, y_train, y_test = train_test_split(X, y, test_size=0.33, random_state=42)\n",
    "    \n",
    "    #determine whether to scale data\n",
    "    if scale_data == True:\n",
    "        X_train = standardize_data(X_train,continuous_columns)\n",
    "        X_test = standardize_data(X_test,continuous_columns)\n",
    "    \n",
    "    #instantiate model\n",
    "    clf = model_type()\n",
    "    \n",
    "    #fit model\n",
    "    model = clf.fit(X_train, y_train)\n",
    "        \n",
    "    #predict\n",
    "    y_preds = clf.predict(X_test)\n",
    "\n",
    "    #score\n",
    "    acc = accuracy_score(y_test, y_preds)\n",
    "    precision = precision_score(y_test, y_preds)\n",
    "    recall = recall_score(y_test, y_preds)\n",
    "    fbeta = fbeta_score(y_test, y_preds,beta=.5)\n",
    "    \n",
    "    print(f\"accuracy score = {acc}\".format(acc=acc))\n",
    "    print(f\"precision = {precision}\".format(precision=precision))\n",
    "    print(f\"recall = {recall}\".format(recall=recall))\n",
    "    print(f\"fbeta = {fbeta}\".format(fbeta=fbeta))"
   ]
  },
  {
   "cell_type": "markdown",
   "metadata": {},
   "source": [
    "### Experiment with different algorithms"
   ]
  },
  {
   "cell_type": "markdown",
   "metadata": {},
   "source": [
    "#### Random Forest Classifier"
   ]
  },
  {
   "cell_type": "code",
   "execution_count": 41,
   "metadata": {},
   "outputs": [
    {
     "name": "stdout",
     "output_type": "stream",
     "text": [
      "accuracy score = 0.9967642028382564\n",
      "precision = 0.6885245901639344\n",
      "recall = 0.25766871165644173\n",
      "fbeta = 0.5159705159705159\n"
     ]
    },
    {
     "data": {
      "text/plain": [
       "(0.9967642028382564,\n",
       " 0.6885245901639344,\n",
       " 0.25766871165644173,\n",
       " 0.5159705159705159)"
      ]
     },
     "execution_count": 41,
     "metadata": {},
     "output_type": "execute_result"
    }
   ],
   "source": [
    "#instantiate, fit & predict, return accuracy, precision, recall and fbeta scors\n",
    "fit_random_forest_classifier(X,y,scale_data=False, n_estimators=100,max_depth=30,min_samples_split=4)"
   ]
  },
  {
   "cell_type": "markdown",
   "metadata": {},
   "source": [
    "#### Logistic Regression"
   ]
  },
  {
   "cell_type": "code",
   "execution_count": 48,
   "metadata": {},
   "outputs": [
    {
     "name": "stderr",
     "output_type": "stream",
     "text": [
      "/Users/erinhayes/opt/miniconda3/lib/python3.7/site-packages/sklearn/linear_model/logistic.py:432: FutureWarning: Default solver will be changed to 'lbfgs' in 0.22. Specify a solver to silence this warning.\n",
      "  FutureWarning)\n"
     ]
    },
    {
     "name": "stdout",
     "output_type": "stream",
     "text": [
      "accuracy score = 0.9961632690796468\n",
      "precision = 0.3333333333333333\n",
      "recall = 0.018404907975460124\n",
      "fbeta = 0.07537688442211055\n"
     ]
    },
    {
     "name": "stderr",
     "output_type": "stream",
     "text": [
      "/Users/erinhayes/opt/miniconda3/lib/python3.7/site-packages/sklearn/svm/base.py:929: ConvergenceWarning: Liblinear failed to converge, increase the number of iterations.\n",
      "  \"the number of iterations.\", ConvergenceWarning)\n"
     ]
    },
    {
     "data": {
      "text/plain": [
       "(0.9961632690796468,\n",
       " 0.3333333333333333,\n",
       " 0.018404907975460124,\n",
       " 0.07537688442211055)"
      ]
     },
     "execution_count": 48,
     "metadata": {},
     "output_type": "execute_result"
    }
   ],
   "source": [
    "fit_model(X,y, scale_data=False, model_type=LogisticRegression)"
   ]
  },
  {
   "cell_type": "code",
   "execution_count": 49,
   "metadata": {},
   "outputs": [
    {
     "name": "stdout",
     "output_type": "stream",
     "text": [
      "accuracy score = 0.9964175102852124\n",
      "precision = 0.527027027027027\n",
      "recall = 0.4785276073619632\n",
      "fbeta = 0.5165562913907286\n"
     ]
    },
    {
     "data": {
      "text/plain": [
       "(0.9964175102852124, 0.527027027027027, 0.4785276073619632, 0.5165562913907286)"
      ]
     },
     "execution_count": 49,
     "metadata": {},
     "output_type": "execute_result"
    }
   ],
   "source": [
    "fit_model(X,y, scale_data=False, model_type=DecisionTreeClassifier)"
   ]
  },
  {
   "cell_type": "markdown",
   "metadata": {},
   "source": [
    "### Evaluate Model\n",
    "\n",
    "While we want to evaluate the model's accuracy, note that we are more concerned with false positives (precision) in this situation.\n",
    "\n",
    "Given that lead volumne is high, the purpose of this model is to flag users that are highly engaged with the self-serve version of the product. A false positive would waste the time of the BDR reps, diverting their attention from other leads that are promising based on company demographic info from third party enrichment sources.\n"
   ]
  },
  {
   "cell_type": "code",
   "execution_count": 51,
   "metadata": {},
   "outputs": [
    {
     "data": {
      "text/plain": [
       "0.3821277115050188"
      ]
     },
     "execution_count": 51,
     "metadata": {},
     "output_type": "execute_result"
    }
   ],
   "source": [
    "#determine % of leads that become SAO\n",
    "df['is_sao'].sum()/len(df)*100"
   ]
  },
  {
   "cell_type": "markdown",
   "metadata": {},
   "source": [
    "#### Interpretation of results: \n",
    "\n",
    "We can see that the accuracy score is deceiving here, as it is masking the poor recall score this is because only .38 % of leads became sales accepted opportunities, meaning even if the model predicted 0 leads would become SAOs, it would still have an accuracy of over 99%\n",
    "\n",
    "**Random forest classifier** performs the best in terms of precision, but it should be noted that it's recall score is very low. \n",
    "\n",
    "The **Decision tree classifier** performed best all-around. Although it produces a lower precision score than the RFC, it's recall is better.\n",
    "\n",
    "Given we care most about precision, the RFC model seems to be the best choice. It should be noted that this model could result in a high number of false negatives, meaning the model could incorrectly classify high quality leads as being un-likely to become SAOs.\n",
    "\n"
   ]
  },
  {
   "cell_type": "markdown",
   "metadata": {},
   "source": [
    "### Tune Model\n",
    "\n",
    "Use GridSearchCV to tune model parameters"
   ]
  },
  {
   "cell_type": "code",
   "execution_count": 52,
   "metadata": {},
   "outputs": [],
   "source": [
    "def tune_model(model_type,params,scorer):\n",
    "    clf = model_type()\n",
    "    grid = GridSearchCV(estimator=clf, param_grid=params,scoring=scorer)\n",
    "    grid.fit(X_train,y_train)\n",
    "    print(grid.best_score_)\n",
    "    print(grid.best_params_)"
   ]
  },
  {
   "cell_type": "markdown",
   "metadata": {},
   "source": [
    "#### Random Forest Classifier"
   ]
  },
  {
   "cell_type": "code",
   "execution_count": 53,
   "metadata": {},
   "outputs": [
    {
     "name": "stderr",
     "output_type": "stream",
     "text": [
      "/Users/erinhayes/opt/miniconda3/lib/python3.7/site-packages/sklearn/model_selection/_split.py:1978: FutureWarning: The default value of cv will change from 3 to 5 in version 0.22. Specify it explicitly to silence this warning.\n",
      "  warnings.warn(CV_WARNING, FutureWarning)\n"
     ]
    },
    {
     "name": "stdout",
     "output_type": "stream",
     "text": [
      "0.8148165097702883\n",
      "{'max_depth': 20, 'min_samples_split': 6, 'n_estimators': 120}\n"
     ]
    }
   ],
   "source": [
    "scorer = make_scorer(precision_score)\n",
    "params = [{'max_depth':[20,50,100],\n",
    "          'n_estimators':[10,20,40,60,80,100,120,140],\n",
    "          'min_samples_split':[2,4,6,8]}]\n",
    "\n",
    "tune_model(RandomForestClassifier,params=params,scorer=scorer)"
   ]
  },
  {
   "cell_type": "markdown",
   "metadata": {},
   "source": [
    "#### Decision Tree"
   ]
  },
  {
   "cell_type": "code",
   "execution_count": 57,
   "metadata": {},
   "outputs": [
    {
     "name": "stderr",
     "output_type": "stream",
     "text": [
      "/Users/erinhayes/opt/miniconda3/lib/python3.7/site-packages/sklearn/model_selection/_split.py:1978: FutureWarning: The default value of cv will change from 3 to 5 in version 0.22. Specify it explicitly to silence this warning.\n",
      "  warnings.warn(CV_WARNING, FutureWarning)\n"
     ]
    },
    {
     "name": "stdout",
     "output_type": "stream",
     "text": [
      "0.5695419962436468\n",
      "{'max_depth': 20, 'min_samples_split': 12}\n"
     ]
    }
   ],
   "source": [
    "scorer = make_scorer(precision_score)\n",
    "params = [{'max_depth':[20,50,100],\n",
    "          'min_samples_split':[2,4,6,8,10,12]}]\n",
    "\n",
    "tune_model(DecisionTreeClassifier,params=params,scorer=scorer)\n"
   ]
  },
  {
   "cell_type": "markdown",
   "metadata": {},
   "source": [
    "### Re-build Model, evaluate on test data\n",
    "\n",
    "After tuning hyperparameters, we achieved an precision score of 81.5% using the RFC model. This score is much higher than the tuned decision tree model, therefore we will use the RFC model. "
   ]
  },
  {
   "cell_type": "code",
   "execution_count": 249,
   "metadata": {},
   "outputs": [
    {
     "name": "stdout",
     "output_type": "stream",
     "text": [
      "Precision score = 0.775\n"
     ]
    }
   ],
   "source": [
    "clf = RandomForestClassifier(n_estimators=120,max_depth=20,min_samples_split=6)\n",
    "model = clf.fit(X_train,y_train)\n",
    "y_preds = model.predict(X_test)\n",
    "precision = precision_score(y_test,y_preds)\n",
    "print(f\"Precision score = {precision}\".format(precision=precision))"
   ]
  },
  {
   "cell_type": "code",
   "execution_count": null,
   "metadata": {},
   "outputs": [],
   "source": []
  }
 ],
 "metadata": {
  "kernelspec": {
   "display_name": "Python 3",
   "language": "python",
   "name": "python3"
  },
  "language_info": {
   "codemirror_mode": {
    "name": "ipython",
    "version": 3
   },
   "file_extension": ".py",
   "mimetype": "text/x-python",
   "name": "python",
   "nbconvert_exporter": "python",
   "pygments_lexer": "ipython3",
   "version": "3.7.4"
  }
 },
 "nbformat": 4,
 "nbformat_minor": 2
}
